{
  "nbformat": 4,
  "nbformat_minor": 0,
  "metadata": {
    "colab": {
      "name": "CFoLF.ipynb",
      "provenance": [],
      "collapsed_sections": [],
      "include_colab_link": true
    },
    "kernelspec": {
      "name": "python3",
      "display_name": "Python 3"
    }
  },
  "cells": [
    {
      "cell_type": "markdown",
      "metadata": {
        "id": "view-in-github",
        "colab_type": "text"
      },
      "source": [
        "<a href=\"https://colab.research.google.com/github/sonicchomp/MyImplentetion/blob/master/Convex%20Fomulations%20of%20Learning%20from%20CrowdSourcing/CFoLF.ipynb\" target=\"_parent\"><img src=\"https://colab.research.google.com/assets/colab-badge.svg\" alt=\"Open In Colab\"/></a>"
      ]
    },
    {
      "cell_type": "markdown",
      "metadata": {
        "id": "JBhKQcXOHK1y",
        "colab_type": "text"
      },
      "source": [
        "https://www.jstage.jst.go.jp/article/tjsai/27/3/27_3_133/_pdf/-char/ja\n"
      ]
    },
    {
      "cell_type": "code",
      "metadata": {
        "id": "CEZqU3itKun8",
        "colab_type": "code",
        "outputId": "fd1a6fc8-0a46-4e15-a900-42584884b887",
        "colab": {
          "base_uri": "https://localhost:8080/",
          "height": 34
        }
      },
      "source": [
        "from google.colab import drive\n",
        "drive.mount('/content/drive')"
      ],
      "execution_count": 0,
      "outputs": [
        {
          "output_type": "stream",
          "text": [
            "Drive already mounted at /content/drive; to attempt to forcibly remount, call drive.mount(\"/content/drive\", force_remount=True).\n"
          ],
          "name": "stdout"
        }
      ]
    },
    {
      "cell_type": "code",
      "metadata": {
        "id": "UMdXcFiJK094",
        "colab_type": "code",
        "colab": {}
      },
      "source": [
        "import numpy as np\n",
        "import pandas as pd\n",
        "from sklearn.model_selection import train_test_split\n",
        "import theano\n",
        "import theano.tensor as T\n"
      ],
      "execution_count": 0,
      "outputs": []
    },
    {
      "cell_type": "code",
      "metadata": {
        "id": "h7MOyvMEWIG8",
        "colab_type": "code",
        "colab": {}
      },
      "source": [
        "class Optimizer(object):\n",
        "  def __init__(self,params=None):\n",
        "    if params is None:\n",
        "      return NotImplementedError()\n",
        "    self.params = params\n",
        "  def updates(self,loss=None):\n",
        "    if loss is None:\n",
        "      return NotImplementedError()\n",
        "    self.updates = OrderedDict()\n",
        "    self.gparams = [T.grad(loss,param) for param in self.params]\n"
      ],
      "execution_count": 0,
      "outputs": []
    },
    {
      "cell_type": "code",
      "metadata": {
        "id": "yDen1ou_WLLo",
        "colab_type": "code",
        "colab": {}
      },
      "source": [
        "class SGD(Optimizer):\n",
        "    def __init__(self, learning_rate=0.01, params=None):\n",
        "        super(SGD, self).__init__(params=params)\n",
        "        self.learning_rate = 0.01\n",
        "\n",
        "    def updates(self, loss=None):\n",
        "        super(SGD, self).updates(loss=loss)\n",
        "\n",
        "        for param, gparam in zip(self.params, self.gparams):\n",
        "            self.updates[param] = param - self.learning_rate * gparam\n",
        "\n",
        "        return self.updates"
      ],
      "execution_count": 0,
      "outputs": []
    },
    {
      "cell_type": "code",
      "metadata": {
        "id": "czzlwMXueNAZ",
        "colab_type": "code",
        "colab": {}
      },
      "source": [
        "def make_W(w_0, lambd, j):\n",
        "    W = np.empty((j,w_0.shape[0]))\n",
        "\n",
        "    for i in range(j):\n",
        "        w_j = np.random.normal(loc=w_0,scale=1.0,size=w_0.shape[0])\n",
        "        W[i] = w_j\n",
        "    return W"
      ],
      "execution_count": 0,
      "outputs": []
    },
    {
      "cell_type": "code",
      "metadata": {
        "id": "yYZlJLZoWQUq",
        "colab_type": "code",
        "colab": {}
      },
      "source": [
        "def model(X,y,lambd, w_0,W):\n",
        "  X = T.matrix(name=\"X\")\n",
        "  y = T.vector(name=\"y\")  \n",
        "  w_0 = theano.shared(w_0, name=\"w_0\")\n",
        "  W = theano.shared(W, name=\"W\")\n",
        "\n",
        "\n",
        "  p_1 = 1/(1+T.exp(-T.dot(X,w)))\n",
        "  xent = -y * T.log(p_1) - (1-y)*T.log(1-p_1)\n",
        "  loss = xent.mean() + lambd * (w ** 2).sum()/2\n",
        "\n",
        "  params = [w]\n",
        "  updates = SGD(params=params).updates(loss)\n",
        "\n",
        "  print('start: compile model')\n",
        "\n",
        "  train = theano.function(\n",
        "            inputs=[X, y],\n",
        "            outputs=[loss,w],\n",
        "            updates=updates)\n",
        "\n",
        "  print('complete: compile model')\n",
        "\n",
        "  return train"
      ],
      "execution_count": 0,
      "outputs": []
    },
    {
      "cell_type": "code",
      "metadata": {
        "id": "p8LeKRIvLPMI",
        "colab_type": "code",
        "colab": {}
      },
      "source": [
        "def main():\n",
        "    read_file = '/content/drive/My Drive/論文実装/Convex Fomulations of Learning from CrowdSourcing/winequality-red.csv'\n",
        "    data = pd.read_csv(read_file, sep=';')\n",
        "    X = data.drop(data.columns[-1],axis=1)\n",
        "    y = data[data.columns[-1]]\n",
        "\n",
        "    X_train, X_test, y_train, y_test = train_test_split(X,y,shuffle = True)\n",
        "\n",
        "    eta = 0.01\n",
        "    lambd = 0.01\n",
        "    training_epochs = 10\n",
        "    np.random.seed(seed=38)\n",
        "    w_0 = np.random.normal(loc=0.0,scale=eta,size=X_train.shape[1])\n",
        "    W = make_W(w_0,lambd,X_train.shape[0])\n",
        "\n",
        "    pass"
      ],
      "execution_count": 0,
      "outputs": []
    },
    {
      "cell_type": "markdown",
      "metadata": {
        "id": "O85TnCZNRHzC",
        "colab_type": "text"
      },
      "source": [
        "Pr[w_0|\\eta] = N(0,\\eta^-1 I]  \n",
        "Pr[w_j|w_o,lambd] =  N(w_0,\\lambd I]  \n",
        "Pr[y|x_i, w_j]"
      ]
    },
    {
      "cell_type": "code",
      "metadata": {
        "id": "GSpkXACqLTKR",
        "colab_type": "code",
        "outputId": "f2b42281-f446-4e7a-9ee3-c89caeb4e456",
        "colab": {
          "base_uri": "https://localhost:8080/",
          "height": 34
        }
      },
      "source": [
        "main()"
      ],
      "execution_count": 0,
      "outputs": [
        {
          "output_type": "display_data",
          "data": {
            "text/plain": [
              "(1199, 11)"
            ]
          },
          "metadata": {
            "tags": []
          }
        }
      ]
    }
  ]
}