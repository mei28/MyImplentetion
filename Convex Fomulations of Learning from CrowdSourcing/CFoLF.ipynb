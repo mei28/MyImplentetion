{
  "nbformat": 4,
  "nbformat_minor": 0,
  "metadata": {
    "colab": {
      "name": "CFoLF.ipynb",
      "provenance": [],
      "collapsed_sections": [],
      "include_colab_link": true
    },
    "kernelspec": {
      "name": "python3",
      "display_name": "Python 3"
    }
  },
  "cells": [
    {
      "cell_type": "markdown",
      "metadata": {
        "id": "view-in-github",
        "colab_type": "text"
      },
      "source": [
        "<a href=\"https://colab.research.google.com/github/sonicchomp/MyImplentetion/blob/master/Convex%20Fomulations%20of%20Learning%20from%20CrowdSourcing/CFoLF.ipynb\" target=\"_parent\"><img src=\"https://colab.research.google.com/assets/colab-badge.svg\" alt=\"Open In Colab\"/></a>"
      ]
    },
    {
      "cell_type": "markdown",
      "metadata": {
        "id": "JBhKQcXOHK1y",
        "colab_type": "text"
      },
      "source": [
        "https://www.jstage.jst.go.jp/article/tjsai/27/3/27_3_133/_pdf/-char/ja\n"
      ]
    },
    {
      "cell_type": "code",
      "metadata": {
        "id": "CEZqU3itKun8",
        "colab_type": "code",
        "outputId": "c0b5d837-6a8c-409d-cf7f-a1726e159ebe",
        "colab": {
          "base_uri": "https://localhost:8080/",
          "height": 122
        }
      },
      "source": [
        "from google.colab import drive\n",
        "drive.mount('/content/drive')"
      ],
      "execution_count": 1,
      "outputs": [
        {
          "output_type": "stream",
          "text": [
            "Go to this URL in a browser: https://accounts.google.com/o/oauth2/auth?client_id=947318989803-6bn6qk8qdgf4n4g3pfee6491hc0brc4i.apps.googleusercontent.com&redirect_uri=urn%3Aietf%3Awg%3Aoauth%3A2.0%3Aoob&scope=email%20https%3A%2F%2Fwww.googleapis.com%2Fauth%2Fdocs.test%20https%3A%2F%2Fwww.googleapis.com%2Fauth%2Fdrive%20https%3A%2F%2Fwww.googleapis.com%2Fauth%2Fdrive.photos.readonly%20https%3A%2F%2Fwww.googleapis.com%2Fauth%2Fpeopleapi.readonly&response_type=code\n",
            "\n",
            "Enter your authorization code:\n",
            "··········\n",
            "Mounted at /content/drive\n"
          ],
          "name": "stdout"
        }
      ]
    },
    {
      "cell_type": "code",
      "metadata": {
        "id": "UMdXcFiJK094",
        "colab_type": "code",
        "colab": {}
      },
      "source": [
        "import numpy as np\n",
        "import pandas as pd\n",
        "from sklearn.model_selection import train_test_split\n",
        "from collections import OrderedDict\n",
        "import theano\n",
        "import theano.tensor as T\n",
        "import math\n"
      ],
      "execution_count": 0,
      "outputs": []
    },
    {
      "cell_type": "code",
      "metadata": {
        "id": "h7MOyvMEWIG8",
        "colab_type": "code",
        "colab": {}
      },
      "source": [
        "class Optimizer(object):\n",
        "    def __init__(self, params=None):\n",
        "        if params is None:\n",
        "            return NotImplementedError()\n",
        "        self.params = params\n",
        "\n",
        "    def updates(self, loss=None):\n",
        "        if loss is None:\n",
        "            return NotImplementedError()\n",
        "\n",
        "        self.updates = OrderedDict()\n",
        "        self.gparams = [T.grad(loss, param) for param in self.params]\n"
      ],
      "execution_count": 0,
      "outputs": []
    },
    {
      "cell_type": "code",
      "metadata": {
        "id": "yDen1ou_WLLo",
        "colab_type": "code",
        "colab": {}
      },
      "source": [
        "class SGD(Optimizer):\n",
        "    def __init__(self, learning_rate=0.01, params=None):\n",
        "        super(SGD, self).__init__(params=params)\n",
        "        self.learning_rate = 0.01\n",
        "\n",
        "    def updates(self, loss=None):\n",
        "        super(SGD, self).updates(loss=loss)\n",
        "\n",
        "        for param, gparam in zip(self.params, self.gparams):\n",
        "            self.updates[param] = param - self.learning_rate * gparam\n",
        "\n",
        "        return self.updates"
      ],
      "execution_count": 0,
      "outputs": []
    },
    {
      "cell_type": "code",
      "metadata": {
        "id": "czzlwMXueNAZ",
        "colab_type": "code",
        "colab": {}
      },
      "source": [
        "def make_W(w_0, lambd, j):\n",
        "    W = np.empty((j,w_0.shape[0]))\n",
        "\n",
        "    for i in range(j):\n",
        "        w_j = np.random.normal(loc=w_0,scale=1.0,size=w_0.shape[0])\n",
        "        W[i] = w_j\n",
        "\n",
        "    print(W.shape)\n",
        "    return W"
      ],
      "execution_count": 0,
      "outputs": []
    },
    {
      "cell_type": "code",
      "metadata": {
        "id": "yYZlJLZoWQUq",
        "colab_type": "code",
        "colab": {}
      },
      "source": [
        "def model(X,y,lambd,eta,w_0,W):\n",
        "  X = T.matrix(name=\"X\")\n",
        "  y = T.matrix(name=\"y\")\n",
        "  w_0 = theano.shared(w_0,name=\"w_0\")\n",
        "  W = theano.shared(W,name=\"W\")\n",
        "  \n",
        "  first = lambd * ((W-w_0)**2).sum()/2\n",
        "  second = eta * (w_0 ** 2).sum()/2\n",
        "  \n",
        "  \n",
        "  # xent = y * T.log(p_1) + (1-y)*T.log(1-p_1)\n",
        "\n",
        "  # third = xent.sum()\n",
        "\n",
        "  loss = first+second\n",
        "  params = [w_0,W]\n",
        "  updates = SGD(params=params).updates(loss)\n",
        "\n",
        "  print('start: compile model')\n",
        "  train = theano.function(\n",
        "      inputs = [X,y],\n",
        "      outputs = [loss,w_0,W],\n",
        "      updates = updates,\n",
        "      on_unused_input='ignore'\n",
        "  )\n",
        "  print('end: compile model')\n",
        "\n",
        "  return train"
      ],
      "execution_count": 0,
      "outputs": []
    },
    {
      "cell_type": "code",
      "metadata": {
        "id": "4InmPd2FBD-M",
        "colab_type": "code",
        "colab": {}
      },
      "source": [
        "def remake_X(X,j):\n",
        "  N,D = X.shape\n",
        "  X_ = np.zeros((N*j,D))\n",
        "  for i in range(N*j):\n",
        "    X_[i,:] = X.iloc[i%N]\n",
        "  return X_\n"
      ],
      "execution_count": 0,
      "outputs": []
    },
    {
      "cell_type": "code",
      "metadata": {
        "id": "p8LeKRIvLPMI",
        "colab_type": "code",
        "colab": {}
      },
      "source": [
        "def main():\n",
        "    read_file = '/content/drive/My Drive/論文実装/Convex Fomulations of Learning from CrowdSourcing/winequality-red.csv'\n",
        "    data = pd.read_csv(read_file, sep=';')\n",
        "    Y_path = \"/content/drive/My Drive/論文実装/Convex Fomulations of Learning from CrowdSourcing/Y.txt\"\n",
        "    Y = pd.read_csv(Y_path,sep = \" \",header=None)\n",
        "    X = data.drop(data.columns[-1],axis=1)\n",
        "    N,D = X.shape\n",
        "    # ワーカの数\n",
        "    j = Y.shape[1]\n",
        "    y_index = range(N)\n",
        "    X_train, X_test, y_train_index, y_test_index = train_test_split(X,y_index,shuffle = True,random_state = 1)\n",
        "    Y_train = Y.iloc[y_train_index,:]\n",
        "    Y_test = Y.iloc[y_test_index]\n",
        "      \n",
        "    return\n",
        "    eta = 0.01\n",
        "    lambd = 0.01\n",
        "    training_epochs = 10\n",
        "    np.random.seed(seed=38)\n",
        "    w_0 = np.random.normal(loc=0.0,scale=eta,size=X_train.shape[1])\n",
        "    W = make_W(w_0,lambd,j)\n",
        "    \n",
        "    train = model(X_train,y_train,lambd,eta,w_0,W)\n",
        "    \n",
        "    min_w = np.empty_like(w_0)\n",
        "    min_loss = 999\n",
        "    print(\"epochs: {}\".format(training_epochs))\n",
        "    \n",
        "    for t in range(training_epochs):\n",
        "        loss, w_0, W = train(X_train,y_train)\n",
        "        if t % (training_epochs/10) == 0:\n",
        "            print('{}: loss:{}'.format(t,loss))\n",
        "        # if loss < min_loss :\n",
        "        #     min_w = w\n",
        "        #     min_loss = loss\n",
        "    # # print(\"-\"*20)\n",
        "    # # test = test_model(X_test,y_test,lambd,min_w)\n",
        "    # # test_loss, prediction = test(X_test,y_test)\n",
        "    # # print(\"test loss: {}\".format(test_loss))      \n",
        "    # # cm = confusion_matrix(prediction, y_test) \n",
        "    # # print(\"Accuracy: {}\".format(cm.accuracy()))\n",
        "    # pass"
      ],
      "execution_count": 0,
      "outputs": []
    },
    {
      "cell_type": "markdown",
      "metadata": {
        "id": "O85TnCZNRHzC",
        "colab_type": "text"
      },
      "source": [
        "Pr[w_0|\\eta] = N(0,\\eta^-1 I]  \n",
        "Pr[w_j|w_o,lambd] =  N(w_0,\\lambd I]  \n",
        "Pr[y|x_i, w_j]"
      ]
    },
    {
      "cell_type": "code",
      "metadata": {
        "id": "GSpkXACqLTKR",
        "colab_type": "code",
        "outputId": "fd6c6738-7efd-4006-9d81-703017430350",
        "colab": {
          "base_uri": "https://localhost:8080/",
          "height": 204
        }
      },
      "source": [
        "main()"
      ],
      "execution_count": 95,
      "outputs": [
        {
          "output_type": "display_data",
          "data": {
            "text/html": [
              "<div>\n",
              "<style scoped>\n",
              "    .dataframe tbody tr th:only-of-type {\n",
              "        vertical-align: middle;\n",
              "    }\n",
              "\n",
              "    .dataframe tbody tr th {\n",
              "        vertical-align: top;\n",
              "    }\n",
              "\n",
              "    .dataframe thead th {\n",
              "        text-align: right;\n",
              "    }\n",
              "</style>\n",
              "<table border=\"1\" class=\"dataframe\">\n",
              "  <thead>\n",
              "    <tr style=\"text-align: right;\">\n",
              "      <th></th>\n",
              "      <th>0</th>\n",
              "      <th>1</th>\n",
              "      <th>2</th>\n",
              "      <th>3</th>\n",
              "      <th>4</th>\n",
              "      <th>5</th>\n",
              "      <th>6</th>\n",
              "      <th>7</th>\n",
              "      <th>8</th>\n",
              "      <th>9</th>\n",
              "    </tr>\n",
              "  </thead>\n",
              "  <tbody>\n",
              "    <tr>\n",
              "      <th>1144</th>\n",
              "      <td>0</td>\n",
              "      <td>0</td>\n",
              "      <td>0</td>\n",
              "      <td>0</td>\n",
              "      <td>0</td>\n",
              "      <td>0</td>\n",
              "      <td>0</td>\n",
              "      <td>0</td>\n",
              "      <td>0</td>\n",
              "      <td>0</td>\n",
              "    </tr>\n",
              "    <tr>\n",
              "      <th>73</th>\n",
              "      <td>0</td>\n",
              "      <td>0</td>\n",
              "      <td>1</td>\n",
              "      <td>0</td>\n",
              "      <td>1</td>\n",
              "      <td>0</td>\n",
              "      <td>1</td>\n",
              "      <td>0</td>\n",
              "      <td>1</td>\n",
              "      <td>0</td>\n",
              "    </tr>\n",
              "    <tr>\n",
              "      <th>446</th>\n",
              "      <td>0</td>\n",
              "      <td>0</td>\n",
              "      <td>0</td>\n",
              "      <td>0</td>\n",
              "      <td>0</td>\n",
              "      <td>0</td>\n",
              "      <td>0</td>\n",
              "      <td>0</td>\n",
              "      <td>0</td>\n",
              "      <td>0</td>\n",
              "    </tr>\n",
              "    <tr>\n",
              "      <th>399</th>\n",
              "      <td>0</td>\n",
              "      <td>0</td>\n",
              "      <td>0</td>\n",
              "      <td>0</td>\n",
              "      <td>0</td>\n",
              "      <td>0</td>\n",
              "      <td>0</td>\n",
              "      <td>0</td>\n",
              "      <td>1</td>\n",
              "      <td>0</td>\n",
              "    </tr>\n",
              "    <tr>\n",
              "      <th>647</th>\n",
              "      <td>0</td>\n",
              "      <td>0</td>\n",
              "      <td>0</td>\n",
              "      <td>0</td>\n",
              "      <td>0</td>\n",
              "      <td>0</td>\n",
              "      <td>0</td>\n",
              "      <td>0</td>\n",
              "      <td>0</td>\n",
              "      <td>0</td>\n",
              "    </tr>\n",
              "  </tbody>\n",
              "</table>\n",
              "</div>"
            ],
            "text/plain": [
              "      0  1  2  3  4  5  6  7  8  9\n",
              "1144  0  0  0  0  0  0  0  0  0  0\n",
              "73    0  0  1  0  1  0  1  0  1  0\n",
              "446   0  0  0  0  0  0  0  0  0  0\n",
              "399   0  0  0  0  0  0  0  0  1  0\n",
              "647   0  0  0  0  0  0  0  0  0  0"
            ]
          },
          "metadata": {
            "tags": []
          }
        }
      ]
    },
    {
      "cell_type": "code",
      "metadata": {
        "id": "4tvrxCA0S_uw",
        "colab_type": "code",
        "colab": {}
      },
      "source": [
        ""
      ],
      "execution_count": 0,
      "outputs": []
    }
  ]
}