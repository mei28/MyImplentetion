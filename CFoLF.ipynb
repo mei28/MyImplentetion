{
  "nbformat": 4,
  "nbformat_minor": 0,
  "metadata": {
    "colab": {
      "name": "CFoLF.ipynb",
      "provenance": [],
      "collapsed_sections": [],
      "include_colab_link": true
    },
    "kernelspec": {
      "name": "python3",
      "display_name": "Python 3"
    }
  },
  "cells": [
    {
      "cell_type": "markdown",
      "metadata": {
        "id": "view-in-github",
        "colab_type": "text"
      },
      "source": [
        "<a href=\"https://colab.research.google.com/github/sonicchomp/MyImplentetion/blob/master/CFoLF.ipynb\" target=\"_parent\"><img src=\"https://colab.research.google.com/assets/colab-badge.svg\" alt=\"Open In Colab\"/></a>"
      ]
    },
    {
      "cell_type": "code",
      "metadata": {
        "id": "CEZqU3itKun8",
        "colab_type": "code",
        "colab": {
          "base_uri": "https://localhost:8080/",
          "height": 122
        },
        "outputId": "a82b832e-726c-4b20-e3bc-658123b02087"
      },
      "source": [
        "from google.colab import drive\n",
        "drive.mount('/content/drive')"
      ],
      "execution_count": 1,
      "outputs": [
        {
          "output_type": "stream",
          "text": [
            "Go to this URL in a browser: https://accounts.google.com/o/oauth2/auth?client_id=947318989803-6bn6qk8qdgf4n4g3pfee6491hc0brc4i.apps.googleusercontent.com&redirect_uri=urn%3Aietf%3Awg%3Aoauth%3A2.0%3Aoob&scope=email%20https%3A%2F%2Fwww.googleapis.com%2Fauth%2Fdocs.test%20https%3A%2F%2Fwww.googleapis.com%2Fauth%2Fdrive%20https%3A%2F%2Fwww.googleapis.com%2Fauth%2Fdrive.photos.readonly%20https%3A%2F%2Fwww.googleapis.com%2Fauth%2Fpeopleapi.readonly&response_type=code\n",
            "\n",
            "Enter your authorization code:\n",
            "··········\n",
            "Mounted at /content/drive\n"
          ],
          "name": "stdout"
        }
      ]
    },
    {
      "cell_type": "code",
      "metadata": {
        "id": "UMdXcFiJK094",
        "colab_type": "code",
        "colab": {}
      },
      "source": [
        "import numpy as np\n",
        "import pandas as pd\n",
        "from sklearn.model_selection import train_test_split\n",
        "import theano\n",
        "import theano.tensor as T\n"
      ],
      "execution_count": 0,
      "outputs": []
    },
    {
      "cell_type": "code",
      "metadata": {
        "id": "h7MOyvMEWIG8",
        "colab_type": "code",
        "colab": {}
      },
      "source": [
        "class Optimizer(object):\n",
        "  def __init__(self,params=None):\n",
        "    if params is None:\n",
        "      return NotImplementedError()\n",
        "    self.params = params\n",
        "  def updates(self,loss=None):\n",
        "    if loss is None:\n",
        "      return NotImplementedError()\n",
        "    self.updates = OrderedDict()\n",
        "    self.gparams = [T.grad(loss,param) for param in self.params]\n"
      ],
      "execution_count": 0,
      "outputs": []
    },
    {
      "cell_type": "code",
      "metadata": {
        "id": "yDen1ou_WLLo",
        "colab_type": "code",
        "colab": {}
      },
      "source": [
        "class SGD(Optimizer):\n",
        "    def __init__(self, learning_rate=0.01, params=None):\n",
        "        super(SGD, self).__init__(params=params)\n",
        "        self.learning_rate = 0.01\n",
        "\n",
        "    def updates(self, loss=None):\n",
        "        super(SGD, self).updates(loss=loss)\n",
        "\n",
        "        for param, gparam in zip(self.params, self.gparams):\n",
        "            self.updates[param] = param - self.learning_rate * gparam\n",
        "\n",
        "        return self.updates"
      ],
      "execution_count": 0,
      "outputs": []
    },
    {
      "cell_type": "code",
      "metadata": {
        "id": "yYZlJLZoWQUq",
        "colab_type": "code",
        "colab": {}
      },
      "source": [
        "def model(X,y,lambd, w_init):\n",
        "  X = T.matrix(name=\"X\")\n",
        "  y = T.vector(name=\"y\")  \n",
        "  w = theano.shared(w_init, name=\"w\")\n",
        "  \n",
        "  p_1 = 1/(1+T.exp(-T.dot(X,w)))\n",
        "  xent = -y * T.log(p_1) - (1-y)*T.log(1-p_1)\n",
        "  loss = xent.mean() + lambd * (w ** 2).sum()/2\n",
        "\n",
        "  params = [w]\n",
        "  updates = SGD(params=params).updates(loss)\n",
        "\n",
        "  print('start: compile model')\n",
        "\n",
        "  train = theano.function(\n",
        "            inputs=[X, y],\n",
        "            outputs=[loss,w],\n",
        "            updates=updates)\n",
        "\n",
        "  print('complete: compile model')\n",
        "\n",
        "  return train"
      ],
      "execution_count": 0,
      "outputs": []
    },
    {
      "cell_type": "code",
      "metadata": {
        "id": "p8LeKRIvLPMI",
        "colab_type": "code",
        "colab": {}
      },
      "source": [
        "def main():\n",
        "    read_file = '/content/drive/My Drive/論文実装/Convex Fomulations of Learning from CrowdSourcing/winequality-red.csv'\n",
        "    data = pd.read_csv(read_file, sep=';')\n",
        "    X = data.drop(data.columns[-1],axis=1)\n",
        "    y = data[data.columns[-1]]\n",
        "\n",
        "    X_train, X_test, y_train, y_test = train_test_split(X,y,shuffle = True)\n",
        "\n",
        "    pass"
      ],
      "execution_count": 0,
      "outputs": []
    },
    {
      "cell_type": "markdown",
      "metadata": {
        "id": "O85TnCZNRHzC",
        "colab_type": "text"
      },
      "source": [
        "Pr[w_0|\\eta] = N(0,\\eta^-1 I]  \n",
        "Pr[w_j|w_o,lambd] =  N(w_o,\\lambd I]  \n"
      ]
    },
    {
      "cell_type": "code",
      "metadata": {
        "id": "GSpkXACqLTKR",
        "colab_type": "code",
        "colab": {
          "base_uri": "https://localhost:8080/",
          "height": 34
        },
        "outputId": "9a2ef8b4-7892-4b50-fe0f-b109138d97c7"
      },
      "source": [
        "main()"
      ],
      "execution_count": 45,
      "outputs": [
        {
          "output_type": "stream",
          "text": [
            "(400, 11)\n"
          ],
          "name": "stdout"
        }
      ]
    },
    {
      "cell_type": "code",
      "metadata": {
        "id": "eGVjgtfCNBd7",
        "colab_type": "code",
        "colab": {}
      },
      "source": [
        ""
      ],
      "execution_count": 0,
      "outputs": []
    }
  ]
}